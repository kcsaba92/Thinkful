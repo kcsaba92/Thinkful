{
 "cells": [
  {
   "cell_type": "code",
   "execution_count": 2,
   "metadata": {},
   "outputs": [
    {
     "name": "stdout",
     "output_type": "stream",
     "text": [
      "Collecting mlxtend==0.13.0\n",
      "  Downloading mlxtend-0.13.0-py2.py3-none-any.whl (1.3 MB)\n",
      "\u001b[K     |████████████████████████████████| 1.3 MB 585 kB/s eta 0:00:01\n",
      "\u001b[?25hRequirement already satisfied: scikit-learn>=0.18 in /Users/kristofcsaba/opt/anaconda3/lib/python3.7/site-packages (from mlxtend==0.13.0) (0.22.1)\n",
      "Requirement already satisfied: matplotlib>=1.5.1 in /Users/kristofcsaba/opt/anaconda3/lib/python3.7/site-packages (from mlxtend==0.13.0) (3.1.3)\n",
      "Requirement already satisfied: pandas>=0.17.1 in /Users/kristofcsaba/opt/anaconda3/lib/python3.7/site-packages (from mlxtend==0.13.0) (1.0.1)\n",
      "Requirement already satisfied: scipy>=0.17 in /Users/kristofcsaba/opt/anaconda3/lib/python3.7/site-packages (from mlxtend==0.13.0) (1.4.1)\n",
      "Requirement already satisfied: numpy>=1.10.4 in /Users/kristofcsaba/opt/anaconda3/lib/python3.7/site-packages (from mlxtend==0.13.0) (1.18.1)\n",
      "Requirement already satisfied: setuptools in /Users/kristofcsaba/opt/anaconda3/lib/python3.7/site-packages (from mlxtend==0.13.0) (46.0.0.post20200309)\n",
      "Requirement already satisfied: joblib>=0.11 in /Users/kristofcsaba/opt/anaconda3/lib/python3.7/site-packages (from scikit-learn>=0.18->mlxtend==0.13.0) (0.14.1)\n",
      "Requirement already satisfied: pyparsing!=2.0.4,!=2.1.2,!=2.1.6,>=2.0.1 in /Users/kristofcsaba/opt/anaconda3/lib/python3.7/site-packages (from matplotlib>=1.5.1->mlxtend==0.13.0) (2.4.6)\n",
      "Requirement already satisfied: kiwisolver>=1.0.1 in /Users/kristofcsaba/opt/anaconda3/lib/python3.7/site-packages (from matplotlib>=1.5.1->mlxtend==0.13.0) (1.1.0)\n",
      "Requirement already satisfied: python-dateutil>=2.1 in /Users/kristofcsaba/opt/anaconda3/lib/python3.7/site-packages (from matplotlib>=1.5.1->mlxtend==0.13.0) (2.8.1)\n",
      "Requirement already satisfied: cycler>=0.10 in /Users/kristofcsaba/opt/anaconda3/lib/python3.7/site-packages (from matplotlib>=1.5.1->mlxtend==0.13.0) (0.10.0)\n",
      "Requirement already satisfied: pytz>=2017.2 in /Users/kristofcsaba/opt/anaconda3/lib/python3.7/site-packages (from pandas>=0.17.1->mlxtend==0.13.0) (2019.3)\n",
      "Requirement already satisfied: six>=1.5 in /Users/kristofcsaba/opt/anaconda3/lib/python3.7/site-packages (from python-dateutil>=2.1->matplotlib>=1.5.1->mlxtend==0.13.0) (1.14.0)\n",
      "Installing collected packages: mlxtend\n",
      "Successfully installed mlxtend-0.13.0\n",
      "Note: you may need to restart the kernel to use updated packages.\n"
     ]
    }
   ],
   "source": [
    "pip install mlxtend==0.13.0"
   ]
  },
  {
   "cell_type": "code",
   "execution_count": 1,
   "metadata": {},
   "outputs": [],
   "source": [
    "import matplotlib.pyplot as plt\n",
    "from sklearn.datasets import make_blobs\n",
    "from matplotlib import pyplot\n",
    "from pandas import DataFrame\n",
    "from mlxtend.plotting import plot_decision_regions\n",
    "from sklearn.linear_model import LogisticRegression\n",
    "from sklearn.datasets import load_breast_cancer\n",
    "from sklearn.model_selection import train_test_split\n",
    "import pandas as pd\n",
    "import numpy as np\n",
    "import math\n",
    "from sklearn.preprocessing import StandardScaler\n",
    "from scipy import stats\n",
    "import warnings\n",
    "\n",
    "warnings.filterwarnings('ignore')"
   ]
  },
  {
   "cell_type": "code",
   "execution_count": null,
   "metadata": {},
   "outputs": [],
   "source": [
    "#load dataset\n",
    "df_data = pd.read_csv('http://archive.ics.uci.edu/ml/machine-learning-databases/parkinsons/parkinsons.data')\n",
    "#drop name column\n",
    "df_data = df_data.drop(['name'], axis=1)\n",
    "#create x, and y dataframe, x is everything except target, and y is target\n",
    "X = df_data.drop(['status'], axis=1)\n",
    "y = df_data['status']"
   ]
  },
  {
   "cell_type": "code",
   "execution_count": null,
   "metadata": {},
   "outputs": [],
   "source": [
    "#split dataset\n",
    "X_train, X_test, y_train, y_test = train_test_split(X, y)"
   ]
  },
  {
   "cell_type": "code",
   "execution_count": null,
   "metadata": {},
   "outputs": [],
   "source": [
    "#create model, logistic regression\n",
    "lr = LogisticRegression(solver='lbfgs', penalty='none', max_iter=1000)\n",
    "lr.fit(X_train, y_train)"
   ]
  },
  {
   "cell_type": "code",
   "execution_count": null,
   "metadata": {},
   "outputs": [],
   "source": [
    "#calculate accuracy\n",
    "lr_score = lr.score(X_test, y_test)\n",
    "\n",
    "print(lr_score)"
   ]
  },
  {
   "cell_type": "code",
   "execution_count": null,
   "metadata": {},
   "outputs": [],
   "source": [
    "#regulazitation\n",
    "lr = LogisticRegression(solver='lbfgs', penalty='l2', max_iter=1000)\n",
    "lr.fit(X_train, y_train)\n",
    "lr_score = lr.score(X_test, y_test)\n",
    "\n",
    "print(lr_score)"
   ]
  },
  {
   "cell_type": "code",
   "execution_count": null,
   "metadata": {},
   "outputs": [],
   "source": []
  },
  {
   "cell_type": "code",
   "execution_count": null,
   "metadata": {},
   "outputs": [],
   "source": []
  },
  {
   "cell_type": "code",
   "execution_count": null,
   "metadata": {},
   "outputs": [],
   "source": []
  }
 ],
 "metadata": {
  "kernelspec": {
   "display_name": "Python 3",
   "language": "python",
   "name": "python3"
  },
  "language_info": {
   "codemirror_mode": {
    "name": "ipython",
    "version": 3
   },
   "file_extension": ".py",
   "mimetype": "text/x-python",
   "name": "python",
   "nbconvert_exporter": "python",
   "pygments_lexer": "ipython3",
   "version": "3.7.6"
  }
 },
 "nbformat": 4,
 "nbformat_minor": 4
}
