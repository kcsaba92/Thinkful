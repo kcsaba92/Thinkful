{
  "nbformat": 4,
  "nbformat_minor": 0,
  "metadata": {
    "colab": {
      "name": "Deep_learning_challenge_Csaba.ipynb",
      "provenance": [],
      "collapsed_sections": []
    },
    "kernelspec": {
      "name": "python3",
      "display_name": "Python 3"
    },
    "accelerator": "GPU"
  },
  "cells": [
    {
      "cell_type": "markdown",
      "metadata": {
        "id": "gnI73FdLJkLk"
      },
      "source": [
        "Preprocess your data so that you can feed it into ANN models.\n",
        "\n"
      ]
    },
    {
      "cell_type": "code",
      "metadata": {
        "colab": {
          "base_uri": "https://localhost:8080/"
        },
        "id": "br_sILCuJHZk",
        "outputId": "c0ab28de-888a-45ec-cc96-8581c639e4a4"
      },
      "source": [
        "#load mnistfashion dataset\n",
        "!pip install -q -U tensorflow>=1.8.0\n",
        "import tensorflow as tf\n",
        "\n",
        "import numpy as np\n",
        "import matplotlib.pyplot as plt\n",
        "\n",
        "# Load the fashion-mnist pre-shuffled train data and test data\n",
        "(x_train, y_train), (x_test, y_test) = tf.keras.datasets.fashion_mnist.load_data()\n",
        "\n",
        "print(\"x_train shape:\", x_train.shape, \"y_train shape:\", y_train.shape)"
      ],
      "execution_count": 1,
      "outputs": [
        {
          "output_type": "stream",
          "text": [
            "Downloading data from https://storage.googleapis.com/tensorflow/tf-keras-datasets/train-labels-idx1-ubyte.gz\n",
            "32768/29515 [=================================] - 0s 0us/step\n",
            "Downloading data from https://storage.googleapis.com/tensorflow/tf-keras-datasets/train-images-idx3-ubyte.gz\n",
            "26427392/26421880 [==============================] - 0s 0us/step\n",
            "Downloading data from https://storage.googleapis.com/tensorflow/tf-keras-datasets/t10k-labels-idx1-ubyte.gz\n",
            "8192/5148 [===============================================] - 0s 0us/step\n",
            "Downloading data from https://storage.googleapis.com/tensorflow/tf-keras-datasets/t10k-images-idx3-ubyte.gz\n",
            "4423680/4422102 [==============================] - 0s 0us/step\n",
            "x_train shape: (60000, 28, 28) y_train shape: (60000,)\n"
          ],
          "name": "stdout"
        }
      ]
    },
    {
      "cell_type": "code",
      "metadata": {
        "id": "7agaHanOd6ec"
      },
      "source": [
        "#import additional libaries\n",
        "from tensorflow.keras.utils import to_categorical\n",
        "from tensorflow.keras.models import Sequential \n",
        "from tensorflow.keras.layers import Dense"
      ],
      "execution_count": 2,
      "outputs": []
    },
    {
      "cell_type": "code",
      "metadata": {
        "id": "TWCmSXkPdCm4"
      },
      "source": [
        "input_dim = 784  # 28*28\n",
        "output_dim = nb_classes = 10\n",
        "batch_size = 128\n",
        "nb_epoch = 20\n",
        "\n",
        "X_train = x_train.reshape(60000, input_dim)\n",
        "X_test = x_test.reshape(10000, input_dim)\n",
        "X_train = X_train.astype('float32')\n",
        "X_test = X_test.astype('float32')\n",
        "X_train /= 255\n",
        "X_test /= 255"
      ],
      "execution_count": 3,
      "outputs": []
    },
    {
      "cell_type": "code",
      "metadata": {
        "id": "LOUjaDFGczzZ"
      },
      "source": [
        "Y_train = to_categorical(y_train, nb_classes)\n",
        "Y_test = to_categorical(y_test, nb_classes)"
      ],
      "execution_count": 4,
      "outputs": []
    },
    {
      "cell_type": "markdown",
      "metadata": {
        "id": "8B4xCdqjJxHZ"
      },
      "source": [
        "Try different ANN models and train them on your training set. You can play with the following:\n",
        "\n",
        "Number of layers\n",
        "Activation functions of the layers\n",
        "Number of neurons in the layers\n",
        "Different batch sizes during training"
      ]
    },
    {
      "cell_type": "code",
      "metadata": {
        "id": "d57jZzLyd1kq"
      },
      "source": [
        "#I am going to start with a 3, and 5 layer deep learning model using sgd  optimizer and softmax activation\n",
        "model = Sequential()\n",
        "# our first dense layer\n",
        "model.add(Dense(32, input_shape=(784,), activation=\"relu\"))\n",
        "# our second dense layer\n",
        "model.add(Dense(16, activation=\"relu\"))\n",
        "# last layer is the output layer.\n",
        "model.add(Dense(10, activation=\"softmax\"))"
      ],
      "execution_count": 5,
      "outputs": []
    },
    {
      "cell_type": "code",
      "metadata": {
        "id": "xjxibkS3gOf7"
      },
      "source": [
        "model.compile(optimizer='sgd', loss='categorical_crossentropy',\n",
        "              metrics=['accuracy'])"
      ],
      "execution_count": 6,
      "outputs": []
    },
    {
      "cell_type": "code",
      "metadata": {
        "colab": {
          "base_uri": "https://localhost:8080/"
        },
        "id": "AfwMZZKkgRrL",
        "outputId": "2679d50b-fd63-493d-e734-bc458d81d160"
      },
      "source": [
        "model.fit(X_train, Y_train, batch_size=batch_size, epochs=20, verbose=1)"
      ],
      "execution_count": 7,
      "outputs": [
        {
          "output_type": "stream",
          "text": [
            "Epoch 1/20\n",
            "469/469 [==============================] - 3s 2ms/step - loss: 1.8595 - accuracy: 0.3757\n",
            "Epoch 2/20\n",
            "469/469 [==============================] - 1s 2ms/step - loss: 0.8673 - accuracy: 0.7019\n",
            "Epoch 3/20\n",
            "469/469 [==============================] - 1s 3ms/step - loss: 0.6801 - accuracy: 0.7596\n",
            "Epoch 4/20\n",
            "469/469 [==============================] - 1s 3ms/step - loss: 0.6029 - accuracy: 0.7898\n",
            "Epoch 5/20\n",
            "469/469 [==============================] - 1s 3ms/step - loss: 0.5616 - accuracy: 0.8046\n",
            "Epoch 6/20\n",
            "469/469 [==============================] - 1s 2ms/step - loss: 0.5250 - accuracy: 0.8189\n",
            "Epoch 7/20\n",
            "469/469 [==============================] - 1s 2ms/step - loss: 0.5057 - accuracy: 0.8248\n",
            "Epoch 8/20\n",
            "469/469 [==============================] - 1s 2ms/step - loss: 0.4923 - accuracy: 0.8286\n",
            "Epoch 9/20\n",
            "469/469 [==============================] - 1s 2ms/step - loss: 0.4795 - accuracy: 0.8320\n",
            "Epoch 10/20\n",
            "469/469 [==============================] - 1s 3ms/step - loss: 0.4692 - accuracy: 0.8384\n",
            "Epoch 11/20\n",
            "469/469 [==============================] - 1s 2ms/step - loss: 0.4537 - accuracy: 0.8433\n",
            "Epoch 12/20\n",
            "469/469 [==============================] - 1s 2ms/step - loss: 0.4438 - accuracy: 0.8480\n",
            "Epoch 13/20\n",
            "469/469 [==============================] - 1s 2ms/step - loss: 0.4390 - accuracy: 0.8480\n",
            "Epoch 14/20\n",
            "469/469 [==============================] - 1s 2ms/step - loss: 0.4336 - accuracy: 0.8496\n",
            "Epoch 15/20\n",
            "469/469 [==============================] - 1s 2ms/step - loss: 0.4301 - accuracy: 0.8507\n",
            "Epoch 16/20\n",
            "469/469 [==============================] - 1s 3ms/step - loss: 0.4219 - accuracy: 0.8526\n",
            "Epoch 17/20\n",
            "469/469 [==============================] - 1s 2ms/step - loss: 0.4160 - accuracy: 0.8567\n",
            "Epoch 18/20\n",
            "469/469 [==============================] - 1s 3ms/step - loss: 0.4150 - accuracy: 0.8574\n",
            "Epoch 19/20\n",
            "469/469 [==============================] - 1s 2ms/step - loss: 0.4074 - accuracy: 0.8591\n",
            "Epoch 20/20\n",
            "469/469 [==============================] - 1s 3ms/step - loss: 0.3997 - accuracy: 0.8607\n"
          ],
          "name": "stdout"
        },
        {
          "output_type": "execute_result",
          "data": {
            "text/plain": [
              "<tensorflow.python.keras.callbacks.History at 0x7fc15053f6d8>"
            ]
          },
          "metadata": {
            "tags": []
          },
          "execution_count": 7
        }
      ]
    },
    {
      "cell_type": "code",
      "metadata": {
        "colab": {
          "base_uri": "https://localhost:8080/"
        },
        "id": "bwB1HZTagT-p",
        "outputId": "8940d9b3-e8d0-42b3-c778-a0e2fad08518"
      },
      "source": [
        "score = model.evaluate(X_test, Y_test, verbose=0)\n",
        "print('Test score:', score[0])\n",
        "print('Test accuracy:', score[1])"
      ],
      "execution_count": 8,
      "outputs": [
        {
          "output_type": "stream",
          "text": [
            "Test score: 0.4444347620010376\n",
            "Test accuracy: 0.8428999781608582\n"
          ],
          "name": "stdout"
        }
      ]
    },
    {
      "cell_type": "markdown",
      "metadata": {
        "id": "eQPF4m8Ng0iB"
      },
      "source": [
        "This model has a 84% accuracy, lets try more hidden layers"
      ]
    },
    {
      "cell_type": "code",
      "metadata": {
        "id": "tvpzoqCYgsOK"
      },
      "source": [
        "model = Sequential()\n",
        "# our first dense layer\n",
        "model.add(Dense(1024, input_shape=(784,), activation=\"relu\"))\n",
        "# our second dense layer\n",
        "model.add(Dense(512, activation=\"relu\"))\n",
        "# our third dense layer\n",
        "model.add(Dense(256, activation=\"relu\"))\n",
        "# our fourth dense layer\n",
        "model.add(Dense(128, activation=\"relu\"))\n",
        "# our fifth dense layer\n",
        "model.add(Dense(64, activation=\"relu\"))\n",
        "# last layer is the output layer.\n",
        "model.add(Dense(10, activation=\"softmax\"))"
      ],
      "execution_count": 9,
      "outputs": []
    },
    {
      "cell_type": "code",
      "metadata": {
        "id": "9P5jKWbbg7ya"
      },
      "source": [
        "model.compile(optimizer='sgd', loss='categorical_crossentropy',\n",
        "              metrics=['accuracy'])"
      ],
      "execution_count": 10,
      "outputs": []
    },
    {
      "cell_type": "code",
      "metadata": {
        "colab": {
          "base_uri": "https://localhost:8080/"
        },
        "id": "YxtPsNvkg9Yo",
        "outputId": "c07be877-c0e4-4b3a-fe61-4a074aa5cd9d"
      },
      "source": [
        "history = model.fit(X_train, Y_train, batch_size=batch_size, epochs=20, verbose=1)"
      ],
      "execution_count": 11,
      "outputs": [
        {
          "output_type": "stream",
          "text": [
            "Epoch 1/20\n",
            "469/469 [==============================] - 2s 3ms/step - loss: 1.5703 - accuracy: 0.5036\n",
            "Epoch 2/20\n",
            "469/469 [==============================] - 1s 3ms/step - loss: 0.6043 - accuracy: 0.7849\n",
            "Epoch 3/20\n",
            "469/469 [==============================] - 1s 3ms/step - loss: 0.5147 - accuracy: 0.8197\n",
            "Epoch 4/20\n",
            "469/469 [==============================] - 1s 3ms/step - loss: 0.4684 - accuracy: 0.8356\n",
            "Epoch 5/20\n",
            "469/469 [==============================] - 1s 3ms/step - loss: 0.4389 - accuracy: 0.8455\n",
            "Epoch 6/20\n",
            "469/469 [==============================] - 1s 3ms/step - loss: 0.4221 - accuracy: 0.8518\n",
            "Epoch 7/20\n",
            "469/469 [==============================] - 1s 3ms/step - loss: 0.3987 - accuracy: 0.8602\n",
            "Epoch 8/20\n",
            "469/469 [==============================] - 2s 3ms/step - loss: 0.3898 - accuracy: 0.8632\n",
            "Epoch 9/20\n",
            "469/469 [==============================] - 1s 3ms/step - loss: 0.3811 - accuracy: 0.8669\n",
            "Epoch 10/20\n",
            "469/469 [==============================] - 2s 3ms/step - loss: 0.3641 - accuracy: 0.8717\n",
            "Epoch 11/20\n",
            "469/469 [==============================] - 2s 3ms/step - loss: 0.3510 - accuracy: 0.8751\n",
            "Epoch 12/20\n",
            "469/469 [==============================] - 1s 3ms/step - loss: 0.3464 - accuracy: 0.8755\n",
            "Epoch 13/20\n",
            "469/469 [==============================] - 1s 3ms/step - loss: 0.3396 - accuracy: 0.8787\n",
            "Epoch 14/20\n",
            "469/469 [==============================] - 1s 3ms/step - loss: 0.3336 - accuracy: 0.8810\n",
            "Epoch 15/20\n",
            "469/469 [==============================] - 1s 3ms/step - loss: 0.3279 - accuracy: 0.8825\n",
            "Epoch 16/20\n",
            "469/469 [==============================] - 1s 3ms/step - loss: 0.3182 - accuracy: 0.8847\n",
            "Epoch 17/20\n",
            "469/469 [==============================] - 1s 3ms/step - loss: 0.3131 - accuracy: 0.8892\n",
            "Epoch 18/20\n",
            "469/469 [==============================] - 1s 3ms/step - loss: 0.3037 - accuracy: 0.8904\n",
            "Epoch 19/20\n",
            "469/469 [==============================] - 1s 3ms/step - loss: 0.2899 - accuracy: 0.8959\n",
            "Epoch 20/20\n",
            "469/469 [==============================] - 1s 3ms/step - loss: 0.2929 - accuracy: 0.8941\n"
          ],
          "name": "stdout"
        }
      ]
    },
    {
      "cell_type": "code",
      "metadata": {
        "colab": {
          "base_uri": "https://localhost:8080/"
        },
        "id": "Vvyh50iQg_4i",
        "outputId": "7dd54244-e188-47e5-81e9-ab633abf11ed"
      },
      "source": [
        "score = model.evaluate(X_test, Y_test, verbose=0)\n",
        "print('Test score:', score[0])\n",
        "print('Test accuracy:', score[1])"
      ],
      "execution_count": 12,
      "outputs": [
        {
          "output_type": "stream",
          "text": [
            "Test score: 0.3578108847141266\n",
            "Test accuracy: 0.8701000213623047\n"
          ],
          "name": "stdout"
        }
      ]
    },
    {
      "cell_type": "markdown",
      "metadata": {
        "id": "ngeWM8FNh591"
      },
      "source": [
        "With more layers the accuracy improved by a 4%, lets visualize it"
      ]
    },
    {
      "cell_type": "code",
      "metadata": {
        "id": "A6arQFSSjMAB"
      },
      "source": [
        "import pandas as pd"
      ],
      "execution_count": 13,
      "outputs": []
    },
    {
      "cell_type": "code",
      "metadata": {
        "colab": {
          "base_uri": "https://localhost:8080/",
          "height": 204
        },
        "id": "-44tPMh9iXyM",
        "outputId": "0027b0db-e179-4b25-caec-c2240b233bb6"
      },
      "source": [
        "report = df = pd.DataFrame(history.history)\n",
        "\n",
        "report.tail()"
      ],
      "execution_count": 14,
      "outputs": [
        {
          "output_type": "execute_result",
          "data": {
            "text/html": [
              "<div>\n",
              "<style scoped>\n",
              "    .dataframe tbody tr th:only-of-type {\n",
              "        vertical-align: middle;\n",
              "    }\n",
              "\n",
              "    .dataframe tbody tr th {\n",
              "        vertical-align: top;\n",
              "    }\n",
              "\n",
              "    .dataframe thead th {\n",
              "        text-align: right;\n",
              "    }\n",
              "</style>\n",
              "<table border=\"1\" class=\"dataframe\">\n",
              "  <thead>\n",
              "    <tr style=\"text-align: right;\">\n",
              "      <th></th>\n",
              "      <th>loss</th>\n",
              "      <th>accuracy</th>\n",
              "    </tr>\n",
              "  </thead>\n",
              "  <tbody>\n",
              "    <tr>\n",
              "      <th>15</th>\n",
              "      <td>0.316748</td>\n",
              "      <td>0.885967</td>\n",
              "    </tr>\n",
              "    <tr>\n",
              "      <th>16</th>\n",
              "      <td>0.307494</td>\n",
              "      <td>0.890117</td>\n",
              "    </tr>\n",
              "    <tr>\n",
              "      <th>17</th>\n",
              "      <td>0.304166</td>\n",
              "      <td>0.890333</td>\n",
              "    </tr>\n",
              "    <tr>\n",
              "      <th>18</th>\n",
              "      <td>0.296323</td>\n",
              "      <td>0.893283</td>\n",
              "    </tr>\n",
              "    <tr>\n",
              "      <th>19</th>\n",
              "      <td>0.293008</td>\n",
              "      <td>0.893600</td>\n",
              "    </tr>\n",
              "  </tbody>\n",
              "</table>\n",
              "</div>"
            ],
            "text/plain": [
              "        loss  accuracy\n",
              "15  0.316748  0.885967\n",
              "16  0.307494  0.890117\n",
              "17  0.304166  0.890333\n",
              "18  0.296323  0.893283\n",
              "19  0.293008  0.893600"
            ]
          },
          "metadata": {
            "tags": []
          },
          "execution_count": 14
        }
      ]
    },
    {
      "cell_type": "code",
      "metadata": {
        "colab": {
          "base_uri": "https://localhost:8080/",
          "height": 282
        },
        "id": "wXApN3X_iYpP",
        "outputId": "8b3bc2e9-3539-4862-ab14-01d0b4a465ce"
      },
      "source": [
        "df[['loss', 'accuracy']].plot()"
      ],
      "execution_count": 15,
      "outputs": [
        {
          "output_type": "execute_result",
          "data": {
            "text/plain": [
              "<matplotlib.axes._subplots.AxesSubplot at 0x7fc1502c3d30>"
            ]
          },
          "metadata": {
            "tags": []
          },
          "execution_count": 15
        },
        {
          "output_type": "display_data",
          "data": {
            "image/png": "[encoded data removed]",
            "text/plain": [
              "<Figure size 432x288 with 1 Axes>"
            ]
          },
          "metadata": {
            "tags": [],
            "needs_background": "light"
          }
        }
      ]
    },
    {
      "cell_type": "markdown",
      "metadata": {
        "id": "qLTcSuLIjj1i"
      },
      "source": [
        "Accuracy has slight increase after 3rd epoch, and loss drops in the first 2 apoch the most then little by little"
      ]
    },
    {
      "cell_type": "code",
      "metadata": {
        "id": "9BgE2utSjNxn"
      },
      "source": [
        "#Now I am going to do another 3 and 5 layer model, with adam optimizer and softmax activation, and increase the nerun numbers\n",
        "\n",
        "model = Sequential()\n",
        "# our first dense layer\n",
        "model.add(Dense(128, input_shape=(784,), activation=\"relu\"))\n",
        "# our second dense layer\n",
        "model.add(Dense(512, activation=\"relu\"))\n",
        "# last layer is the output layer.\n",
        "model.add(Dense(10, activation=\"softmax\"))"
      ],
      "execution_count": 16,
      "outputs": []
    },
    {
      "cell_type": "code",
      "metadata": {
        "id": "-ycgj90hzLnD"
      },
      "source": [
        "model.compile(optimizer='adam', loss='categorical_crossentropy',\n",
        "              metrics=['accuracy'])"
      ],
      "execution_count": 17,
      "outputs": []
    },
    {
      "cell_type": "code",
      "metadata": {
        "colab": {
          "base_uri": "https://localhost:8080/"
        },
        "id": "uXw3yj9izREa",
        "outputId": "cd346a0c-ca41-4ac9-a4db-5ad850234612"
      },
      "source": [
        "history_new = model.fit(X_train, Y_train, batch_size=batch_size, epochs=30, verbose=1)history_new = model.fit(X_train, Y_train, batch_size=batch_size, epochs=30, verbose=1)"
      ],
      "execution_count": 19,
      "outputs": [
        {
          "output_type": "stream",
          "text": [
            "Epoch 1/30\n",
            "469/469 [==============================] - 1s 3ms/step - loss: 0.1018 - accuracy: 0.9609\n",
            "Epoch 2/30\n",
            "469/469 [==============================] - 1s 3ms/step - loss: 0.0978 - accuracy: 0.9622\n",
            "Epoch 3/30\n",
            "469/469 [==============================] - 1s 3ms/step - loss: 0.0933 - accuracy: 0.9649\n",
            "Epoch 4/30\n",
            "469/469 [==============================] - 1s 2ms/step - loss: 0.0928 - accuracy: 0.9645\n",
            "Epoch 5/30\n",
            "469/469 [==============================] - 1s 3ms/step - loss: 0.0867 - accuracy: 0.9669\n",
            "Epoch 6/30\n",
            "469/469 [==============================] - 1s 3ms/step - loss: 0.0851 - accuracy: 0.9678\n",
            "Epoch 7/30\n",
            "469/469 [==============================] - 1s 3ms/step - loss: 0.0795 - accuracy: 0.9703\n",
            "Epoch 8/30\n",
            "469/469 [==============================] - 1s 3ms/step - loss: 0.0807 - accuracy: 0.9698\n",
            "Epoch 9/30\n",
            "469/469 [==============================] - 1s 3ms/step - loss: 0.0719 - accuracy: 0.9726\n",
            "Epoch 10/30\n",
            "469/469 [==============================] - 1s 3ms/step - loss: 0.0781 - accuracy: 0.9699\n",
            "Epoch 11/30\n",
            "469/469 [==============================] - 1s 3ms/step - loss: 0.0701 - accuracy: 0.9731\n",
            "Epoch 12/30\n",
            "469/469 [==============================] - 1s 3ms/step - loss: 0.0708 - accuracy: 0.9729\n",
            "Epoch 13/30\n",
            "469/469 [==============================] - 1s 3ms/step - loss: 0.0675 - accuracy: 0.9745\n",
            "Epoch 14/30\n",
            "469/469 [==============================] - 1s 3ms/step - loss: 0.0662 - accuracy: 0.9748\n",
            "Epoch 15/30\n",
            "469/469 [==============================] - 1s 3ms/step - loss: 0.0567 - accuracy: 0.9787\n",
            "Epoch 16/30\n",
            "469/469 [==============================] - 1s 3ms/step - loss: 0.0610 - accuracy: 0.9765\n",
            "Epoch 17/30\n",
            "469/469 [==============================] - 1s 3ms/step - loss: 0.0594 - accuracy: 0.9776\n",
            "Epoch 18/30\n",
            "469/469 [==============================] - 1s 3ms/step - loss: 0.0548 - accuracy: 0.9788\n",
            "Epoch 19/30\n",
            "469/469 [==============================] - 1s 3ms/step - loss: 0.0547 - accuracy: 0.9787\n",
            "Epoch 20/30\n",
            "469/469 [==============================] - 1s 3ms/step - loss: 0.0575 - accuracy: 0.9783\n",
            "Epoch 21/30\n",
            "469/469 [==============================] - 1s 3ms/step - loss: 0.0489 - accuracy: 0.9814\n",
            "Epoch 22/30\n",
            "469/469 [==============================] - 1s 3ms/step - loss: 0.0519 - accuracy: 0.9800\n",
            "Epoch 23/30\n",
            "469/469 [==============================] - 1s 3ms/step - loss: 0.0503 - accuracy: 0.9816\n",
            "Epoch 24/30\n",
            "469/469 [==============================] - 1s 3ms/step - loss: 0.0500 - accuracy: 0.9808\n",
            "Epoch 25/30\n",
            "469/469 [==============================] - 1s 3ms/step - loss: 0.0409 - accuracy: 0.9850\n",
            "Epoch 26/30\n",
            "469/469 [==============================] - 1s 3ms/step - loss: 0.0542 - accuracy: 0.9801\n",
            "Epoch 27/30\n",
            "469/469 [==============================] - 1s 3ms/step - loss: 0.0460 - accuracy: 0.9826\n",
            "Epoch 28/30\n",
            "469/469 [==============================] - 1s 3ms/step - loss: 0.0354 - accuracy: 0.9866\n",
            "Epoch 29/30\n",
            "469/469 [==============================] - 1s 3ms/step - loss: 0.0555 - accuracy: 0.9800\n",
            "Epoch 30/30\n",
            "469/469 [==============================] - 1s 3ms/step - loss: 0.0380 - accuracy: 0.9860\n"
          ],
          "name": "stdout"
        }
      ]
    },
    {
      "cell_type": "markdown",
      "metadata": {
        "id": "uJ0VU4vt0AFb"
      },
      "source": [
        "Changing the loss function to Adams, and increasing the number of neurons made a signifficant differnce, the accuracy of this model is 98%"
      ]
    },
    {
      "cell_type": "code",
      "metadata": {
        "colab": {
          "base_uri": "https://localhost:8080/",
          "height": 204
        },
        "id": "PMwECJ_bzv3R",
        "outputId": "90052a00-bcbf-4d06-8ac8-e972b846a3a3"
      },
      "source": [
        "report = df = pd.DataFrame(history_new.history)\n",
        "\n",
        "report.tail()"
      ],
      "execution_count": 28,
      "outputs": [
        {
          "output_type": "execute_result",
          "data": {
            "text/html": [
              "<div>\n",
              "<style scoped>\n",
              "    .dataframe tbody tr th:only-of-type {\n",
              "        vertical-align: middle;\n",
              "    }\n",
              "\n",
              "    .dataframe tbody tr th {\n",
              "        vertical-align: top;\n",
              "    }\n",
              "\n",
              "    .dataframe thead th {\n",
              "        text-align: right;\n",
              "    }\n",
              "</style>\n",
              "<table border=\"1\" class=\"dataframe\">\n",
              "  <thead>\n",
              "    <tr style=\"text-align: right;\">\n",
              "      <th></th>\n",
              "      <th>loss</th>\n",
              "      <th>accuracy</th>\n",
              "    </tr>\n",
              "  </thead>\n",
              "  <tbody>\n",
              "    <tr>\n",
              "      <th>25</th>\n",
              "      <td>0.054153</td>\n",
              "      <td>0.980050</td>\n",
              "    </tr>\n",
              "    <tr>\n",
              "      <th>26</th>\n",
              "      <td>0.045951</td>\n",
              "      <td>0.982550</td>\n",
              "    </tr>\n",
              "    <tr>\n",
              "      <th>27</th>\n",
              "      <td>0.035445</td>\n",
              "      <td>0.986650</td>\n",
              "    </tr>\n",
              "    <tr>\n",
              "      <th>28</th>\n",
              "      <td>0.055451</td>\n",
              "      <td>0.980000</td>\n",
              "    </tr>\n",
              "    <tr>\n",
              "      <th>29</th>\n",
              "      <td>0.037980</td>\n",
              "      <td>0.986033</td>\n",
              "    </tr>\n",
              "  </tbody>\n",
              "</table>\n",
              "</div>"
            ],
            "text/plain": [
              "        loss  accuracy\n",
              "25  0.054153  0.980050\n",
              "26  0.045951  0.982550\n",
              "27  0.035445  0.986650\n",
              "28  0.055451  0.980000\n",
              "29  0.037980  0.986033"
            ]
          },
          "metadata": {
            "tags": []
          },
          "execution_count": 28
        }
      ]
    },
    {
      "cell_type": "code",
      "metadata": {
        "colab": {
          "base_uri": "https://localhost:8080/",
          "height": 282
        },
        "id": "LEhjCbG7zv7Y",
        "outputId": "31d6021b-79a0-4f9e-9d88-870c2b299916"
      },
      "source": [
        "df[['loss', 'accuracy']].plot()"
      ],
      "execution_count": 29,
      "outputs": [
        {
          "output_type": "execute_result",
          "data": {
            "text/plain": [
              "<matplotlib.axes._subplots.AxesSubplot at 0x7fc0ecf8ff28>"
            ]
          },
          "metadata": {
            "tags": []
          },
          "execution_count": 29
        },
        {
          "output_type": "display_data",
          "data": {
            "image/png": "[encoded data removed]",
            "text/plain": [
              "<Figure size 432x288 with 1 Axes>"
            ]
          },
          "metadata": {
            "tags": [],
            "needs_background": "light"
          }
        }
      ]
    },
    {
      "cell_type": "code",
      "metadata": {
        "id": "oQdQc3vRzgxj"
      },
      "source": [
        "model = Sequential()\n",
        "# our first dense layer\n",
        "model.add(Dense(1024, input_shape=(784,), activation=\"relu\"))\n",
        "# our second dense layer\n",
        "model.add(Dense(512, activation=\"relu\"))\n",
        "# our third dense layer\n",
        "model.add(Dense(256, activation=\"relu\"))\n",
        "# our fourth dense layer\n",
        "model.add(Dense(128, activation=\"relu\"))\n",
        "# our fifth dense layer\n",
        "model.add(Dense(64, activation=\"relu\"))\n",
        "# last layer is the output layer.\n",
        "model.add(Dense(10, activation=\"softmax\"))"
      ],
      "execution_count": 24,
      "outputs": []
    },
    {
      "cell_type": "code",
      "metadata": {
        "id": "jaXZipPu0SME"
      },
      "source": [
        "model.compile(optimizer='adam', loss='categorical_crossentropy',\n",
        "              metrics=['accuracy'])"
      ],
      "execution_count": 25,
      "outputs": []
    },
    {
      "cell_type": "code",
      "metadata": {
        "colab": {
          "base_uri": "https://localhost:8080/"
        },
        "id": "rlEU71B30Sbb",
        "outputId": "5345c586-20e6-4788-d4a1-99395a2159e4"
      },
      "source": [
        "history_new2 = model.fit(X_train, Y_train, batch_size=batch_size, epochs=30, verbose=1)"
      ],
      "execution_count": 30,
      "outputs": [
        {
          "output_type": "stream",
          "text": [
            "Epoch 1/30\n",
            "469/469 [==============================] - 2s 4ms/step - loss: 0.1786 - accuracy: 0.9327\n",
            "Epoch 2/30\n",
            "469/469 [==============================] - 2s 3ms/step - loss: 0.1709 - accuracy: 0.9352\n",
            "Epoch 3/30\n",
            "469/469 [==============================] - 2s 3ms/step - loss: 0.1663 - accuracy: 0.9362\n",
            "Epoch 4/30\n",
            "469/469 [==============================] - 2s 3ms/step - loss: 0.1607 - accuracy: 0.9384\n",
            "Epoch 5/30\n",
            "469/469 [==============================] - 1s 3ms/step - loss: 0.1532 - accuracy: 0.9416\n",
            "Epoch 6/30\n",
            "469/469 [==============================] - 1s 3ms/step - loss: 0.1474 - accuracy: 0.9436\n",
            "Epoch 7/30\n",
            "469/469 [==============================] - 1s 3ms/step - loss: 0.1477 - accuracy: 0.9439\n",
            "Epoch 8/30\n",
            "469/469 [==============================] - 2s 3ms/step - loss: 0.1378 - accuracy: 0.9456\n",
            "Epoch 9/30\n",
            "469/469 [==============================] - 2s 3ms/step - loss: 0.1356 - accuracy: 0.9472\n",
            "Epoch 10/30\n",
            "469/469 [==============================] - 1s 3ms/step - loss: 0.1327 - accuracy: 0.9484\n",
            "Epoch 11/30\n",
            "469/469 [==============================] - 2s 3ms/step - loss: 0.1263 - accuracy: 0.9510\n",
            "Epoch 12/30\n",
            "469/469 [==============================] - 1s 3ms/step - loss: 0.1265 - accuracy: 0.9507\n",
            "Epoch 13/30\n",
            "469/469 [==============================] - 1s 3ms/step - loss: 0.1161 - accuracy: 0.9542\n",
            "Epoch 14/30\n",
            "469/469 [==============================] - 1s 3ms/step - loss: 0.1151 - accuracy: 0.9555\n",
            "Epoch 15/30\n",
            "469/469 [==============================] - 2s 3ms/step - loss: 0.1065 - accuracy: 0.9583\n",
            "Epoch 16/30\n",
            "469/469 [==============================] - 2s 3ms/step - loss: 0.1111 - accuracy: 0.9565\n",
            "Epoch 17/30\n",
            "469/469 [==============================] - 2s 3ms/step - loss: 0.1052 - accuracy: 0.9586\n",
            "Epoch 18/30\n",
            "469/469 [==============================] - 1s 3ms/step - loss: 0.1044 - accuracy: 0.9594\n",
            "Epoch 19/30\n",
            "469/469 [==============================] - 1s 3ms/step - loss: 0.0977 - accuracy: 0.9624\n",
            "Epoch 20/30\n",
            "469/469 [==============================] - 1s 3ms/step - loss: 0.0949 - accuracy: 0.9624\n",
            "Epoch 21/30\n",
            "469/469 [==============================] - 1s 3ms/step - loss: 0.0945 - accuracy: 0.9633\n",
            "Epoch 22/30\n",
            "469/469 [==============================] - 1s 3ms/step - loss: 0.0959 - accuracy: 0.9624\n",
            "Epoch 23/30\n",
            "469/469 [==============================] - 1s 3ms/step - loss: 0.0839 - accuracy: 0.9674\n",
            "Epoch 24/30\n",
            "469/469 [==============================] - 1s 3ms/step - loss: 0.0868 - accuracy: 0.9670\n",
            "Epoch 25/30\n",
            "469/469 [==============================] - 1s 3ms/step - loss: 0.0847 - accuracy: 0.9664\n",
            "Epoch 26/30\n",
            "469/469 [==============================] - 2s 3ms/step - loss: 0.0818 - accuracy: 0.9688\n",
            "Epoch 27/30\n",
            "469/469 [==============================] - 2s 3ms/step - loss: 0.0783 - accuracy: 0.9700\n",
            "Epoch 28/30\n",
            "469/469 [==============================] - 2s 3ms/step - loss: 0.0785 - accuracy: 0.9697\n",
            "Epoch 29/30\n",
            "469/469 [==============================] - 1s 3ms/step - loss: 0.0765 - accuracy: 0.9717\n",
            "Epoch 30/30\n",
            "469/469 [==============================] - 1s 3ms/step - loss: 0.0746 - accuracy: 0.9706\n"
          ],
          "name": "stdout"
        }
      ]
    },
    {
      "cell_type": "code",
      "metadata": {
        "colab": {
          "base_uri": "https://localhost:8080/",
          "height": 204
        },
        "id": "WWdfr82s0b5h",
        "outputId": "acd01c9e-f99a-4bd8-9452-2c00538478a6"
      },
      "source": [
        "report = df = pd.DataFrame(history_new2.history)\n",
        "\n",
        "report.tail()"
      ],
      "execution_count": 31,
      "outputs": [
        {
          "output_type": "execute_result",
          "data": {
            "text/html": [
              "<div>\n",
              "<style scoped>\n",
              "    .dataframe tbody tr th:only-of-type {\n",
              "        vertical-align: middle;\n",
              "    }\n",
              "\n",
              "    .dataframe tbody tr th {\n",
              "        vertical-align: top;\n",
              "    }\n",
              "\n",
              "    .dataframe thead th {\n",
              "        text-align: right;\n",
              "    }\n",
              "</style>\n",
              "<table border=\"1\" class=\"dataframe\">\n",
              "  <thead>\n",
              "    <tr style=\"text-align: right;\">\n",
              "      <th></th>\n",
              "      <th>loss</th>\n",
              "      <th>accuracy</th>\n",
              "    </tr>\n",
              "  </thead>\n",
              "  <tbody>\n",
              "    <tr>\n",
              "      <th>25</th>\n",
              "      <td>0.081801</td>\n",
              "      <td>0.968750</td>\n",
              "    </tr>\n",
              "    <tr>\n",
              "      <th>26</th>\n",
              "      <td>0.078328</td>\n",
              "      <td>0.970017</td>\n",
              "    </tr>\n",
              "    <tr>\n",
              "      <th>27</th>\n",
              "      <td>0.078484</td>\n",
              "      <td>0.969683</td>\n",
              "    </tr>\n",
              "    <tr>\n",
              "      <th>28</th>\n",
              "      <td>0.076462</td>\n",
              "      <td>0.971683</td>\n",
              "    </tr>\n",
              "    <tr>\n",
              "      <th>29</th>\n",
              "      <td>0.074567</td>\n",
              "      <td>0.970600</td>\n",
              "    </tr>\n",
              "  </tbody>\n",
              "</table>\n",
              "</div>"
            ],
            "text/plain": [
              "        loss  accuracy\n",
              "25  0.081801  0.968750\n",
              "26  0.078328  0.970017\n",
              "27  0.078484  0.969683\n",
              "28  0.076462  0.971683\n",
              "29  0.074567  0.970600"
            ]
          },
          "metadata": {
            "tags": []
          },
          "execution_count": 31
        }
      ]
    },
    {
      "cell_type": "code",
      "metadata": {
        "colab": {
          "base_uri": "https://localhost:8080/",
          "height": 283
        },
        "id": "Z_ZAqSno0vSo",
        "outputId": "28bdba36-38b8-4f34-c361-723989281132"
      },
      "source": [
        "df[['loss', 'accuracy']].plot()"
      ],
      "execution_count": 32,
      "outputs": [
        {
          "output_type": "execute_result",
          "data": {
            "text/plain": [
              "<matplotlib.axes._subplots.AxesSubplot at 0x7fc0ec677ac8>"
            ]
          },
          "metadata": {
            "tags": []
          },
          "execution_count": 32
        },
        {
          "output_type": "display_data",
          "data": {
            "image/png": "[encoded data removed]",
            "text/plain": [
              "<Figure size 432x288 with 1 Axes>"
            ]
          },
          "metadata": {
            "tags": [],
            "needs_background": "light"
          }
        }
      ]
    },
    {
      "cell_type": "markdown",
      "metadata": {
        "id": "l_Y1YL9Z00Qz"
      },
      "source": [
        "At this point our model did improve by being more complex. Overall the best model is 3 layer, using adam for loss function and softmax for optimazitation"
      ]
    }
  ]
}