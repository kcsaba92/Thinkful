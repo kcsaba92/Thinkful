{
  "nbformat": 4,
  "nbformat_minor": 0,
  "metadata": {
    "colab": {
      "name": "big_data_challenge_csaba.ipynb",
      "provenance": []
    },
    "kernelspec": {
      "name": "python3",
      "display_name": "Python 3"
    }
  },
  "cells": [
    {
      "cell_type": "code",
      "metadata": {
        "colab": {
          "base_uri": "https://localhost:8080/",
          "height": 35
        },
        "id": "0dRysIz0U-Rk",
        "outputId": "c1d424d6-e10b-4cae-d990-bb8de2d0b788"
      },
      "source": [
        "'''!pip install dask[dataframe] --upgrade --quiet\n",
        "!pip install dask-ml -- quiet\n",
        "!pip install aiohttp\n",
        "!pip install joblib\n",
        "!pip install dask distributed -- upgrade'''"
      ],
      "execution_count": 1,
      "outputs": [
        {
          "output_type": "execute_result",
          "data": {
            "application/vnd.google.colaboratory.intrinsic+json": {
              "type": "string"
            },
            "text/plain": [
              "'!pip install dask[dataframe] --upgrade --quiet\\n!pip install dask-ml -- quiet\\n!pip install aiohttp\\n!pip install joblib\\n!pip install dask distributed -- upgrade'"
            ]
          },
          "metadata": {
            "tags": []
          },
          "execution_count": 1
        }
      ]
    },
    {
      "cell_type": "code",
      "metadata": {
        "colab": {
          "base_uri": "https://localhost:8080/",
          "height": 118
        },
        "id": "rum1hAUA4BBP",
        "outputId": "3809dba2-6307-4c81-c9c6-3010bc3aa5c4"
      },
      "source": [
        "#create a client for later ML use\n",
        "from dask.distributed import Client, progress\n",
        "\n",
        "client = Client(n_workers=4, threads_per_worker=2, memory_limit='2GB')\n",
        "client"
      ],
      "execution_count": 13,
      "outputs": [
        {
          "output_type": "execute_result",
          "data": {
            "text/html": [
              "<table style=\"border: 2px solid white;\">\n",
              "<tr>\n",
              "<td style=\"vertical-align: top; border: 0px solid white\">\n",
              "<h3 style=\"text-align: left;\">Client</h3>\n",
              "<ul style=\"text-align: left; list-style: none; margin: 0; padding: 0;\">\n",
              "  <li><b>Scheduler: </b>tcp://127.0.0.1:34307</li>\n",
              "  <li><b>Dashboard: </b><a href='http://127.0.0.1:8787/status' target='_blank'>http://127.0.0.1:8787/status</a></li>\n",
              "</ul>\n",
              "</td>\n",
              "<td style=\"vertical-align: top; border: 0px solid white\">\n",
              "<h3 style=\"text-align: left;\">Cluster</h3>\n",
              "<ul style=\"text-align: left; list-style:none; margin: 0; padding: 0;\">\n",
              "  <li><b>Workers: </b>4</li>\n",
              "  <li><b>Cores: </b>8</li>\n",
              "  <li><b>Memory: </b>8.00 GB</li>\n",
              "</ul>\n",
              "</td>\n",
              "</tr>\n",
              "</table>"
            ],
            "text/plain": [
              "<Client: 'tcp://127.0.0.1:34307' processes=4 threads=8, memory=8.00 GB>"
            ]
          },
          "metadata": {
            "tags": []
          },
          "execution_count": 13
        }
      ]
    },
    {
      "cell_type": "code",
      "metadata": {
        "id": "yhwkky10RBz6"
      },
      "source": [
        "#import libraries\n",
        "import dask.dataframe as dd\n",
        "from sklearn.ensemble import RandomForestClassifier\n",
        "from sklearn.model_selection import cross_validate, GridSearchCV\n",
        "from sklearn.metrics import roc_auc_score\n",
        "import joblib\n",
        "from dask_ml.model_selection import train_test_split\n",
        "import pandas as pd"
      ],
      "execution_count": 2,
      "outputs": []
    },
    {
      "cell_type": "code",
      "metadata": {
        "id": "XCQxaRZuSC5M"
      },
      "source": [
        "\n",
        "#import data set\n",
        "data = dd.read_csv('https://assets.datacamp.com/production/repositories/1765/datasets/ae888d00f9b36dd7d50a4afbc112761e2db766d2/turnover.csv')"
      ],
      "execution_count": 3,
      "outputs": []
    },
    {
      "cell_type": "code",
      "metadata": {
        "colab": {
          "base_uri": "https://localhost:8080/",
          "height": 359
        },
        "id": "QBJU2EPnS44p",
        "outputId": "8bdd862f-83ee-4e6d-d68e-57181f1b5236"
      },
      "source": [
        "data.head(10)"
      ],
      "execution_count": 4,
      "outputs": [
        {
          "output_type": "execute_result",
          "data": {
            "text/html": [
              "<div>\n",
              "<style scoped>\n",
              "    .dataframe tbody tr th:only-of-type {\n",
              "        vertical-align: middle;\n",
              "    }\n",
              "\n",
              "    .dataframe tbody tr th {\n",
              "        vertical-align: top;\n",
              "    }\n",
              "\n",
              "    .dataframe thead th {\n",
              "        text-align: right;\n",
              "    }\n",
              "</style>\n",
              "<table border=\"1\" class=\"dataframe\">\n",
              "  <thead>\n",
              "    <tr style=\"text-align: right;\">\n",
              "      <th></th>\n",
              "      <th>satisfaction</th>\n",
              "      <th>evaluation</th>\n",
              "      <th>number_of_projects</th>\n",
              "      <th>average_montly_hours</th>\n",
              "      <th>time_spend_company</th>\n",
              "      <th>work_accident</th>\n",
              "      <th>churn</th>\n",
              "      <th>promotion</th>\n",
              "      <th>department</th>\n",
              "      <th>salary</th>\n",
              "    </tr>\n",
              "  </thead>\n",
              "  <tbody>\n",
              "    <tr>\n",
              "      <th>0</th>\n",
              "      <td>0.38</td>\n",
              "      <td>0.53</td>\n",
              "      <td>2</td>\n",
              "      <td>157</td>\n",
              "      <td>3</td>\n",
              "      <td>0</td>\n",
              "      <td>1</td>\n",
              "      <td>0</td>\n",
              "      <td>sales</td>\n",
              "      <td>low</td>\n",
              "    </tr>\n",
              "    <tr>\n",
              "      <th>1</th>\n",
              "      <td>0.80</td>\n",
              "      <td>0.86</td>\n",
              "      <td>5</td>\n",
              "      <td>262</td>\n",
              "      <td>6</td>\n",
              "      <td>0</td>\n",
              "      <td>1</td>\n",
              "      <td>0</td>\n",
              "      <td>sales</td>\n",
              "      <td>medium</td>\n",
              "    </tr>\n",
              "    <tr>\n",
              "      <th>2</th>\n",
              "      <td>0.11</td>\n",
              "      <td>0.88</td>\n",
              "      <td>7</td>\n",
              "      <td>272</td>\n",
              "      <td>4</td>\n",
              "      <td>0</td>\n",
              "      <td>1</td>\n",
              "      <td>0</td>\n",
              "      <td>sales</td>\n",
              "      <td>medium</td>\n",
              "    </tr>\n",
              "    <tr>\n",
              "      <th>3</th>\n",
              "      <td>0.72</td>\n",
              "      <td>0.87</td>\n",
              "      <td>5</td>\n",
              "      <td>223</td>\n",
              "      <td>5</td>\n",
              "      <td>0</td>\n",
              "      <td>1</td>\n",
              "      <td>0</td>\n",
              "      <td>sales</td>\n",
              "      <td>low</td>\n",
              "    </tr>\n",
              "    <tr>\n",
              "      <th>4</th>\n",
              "      <td>0.37</td>\n",
              "      <td>0.52</td>\n",
              "      <td>2</td>\n",
              "      <td>159</td>\n",
              "      <td>3</td>\n",
              "      <td>0</td>\n",
              "      <td>1</td>\n",
              "      <td>0</td>\n",
              "      <td>sales</td>\n",
              "      <td>low</td>\n",
              "    </tr>\n",
              "    <tr>\n",
              "      <th>5</th>\n",
              "      <td>0.41</td>\n",
              "      <td>0.50</td>\n",
              "      <td>2</td>\n",
              "      <td>153</td>\n",
              "      <td>3</td>\n",
              "      <td>0</td>\n",
              "      <td>1</td>\n",
              "      <td>0</td>\n",
              "      <td>sales</td>\n",
              "      <td>low</td>\n",
              "    </tr>\n",
              "    <tr>\n",
              "      <th>6</th>\n",
              "      <td>0.10</td>\n",
              "      <td>0.77</td>\n",
              "      <td>6</td>\n",
              "      <td>247</td>\n",
              "      <td>4</td>\n",
              "      <td>0</td>\n",
              "      <td>1</td>\n",
              "      <td>0</td>\n",
              "      <td>sales</td>\n",
              "      <td>low</td>\n",
              "    </tr>\n",
              "    <tr>\n",
              "      <th>7</th>\n",
              "      <td>0.92</td>\n",
              "      <td>0.85</td>\n",
              "      <td>5</td>\n",
              "      <td>259</td>\n",
              "      <td>5</td>\n",
              "      <td>0</td>\n",
              "      <td>1</td>\n",
              "      <td>0</td>\n",
              "      <td>sales</td>\n",
              "      <td>low</td>\n",
              "    </tr>\n",
              "    <tr>\n",
              "      <th>8</th>\n",
              "      <td>0.89</td>\n",
              "      <td>1.00</td>\n",
              "      <td>5</td>\n",
              "      <td>224</td>\n",
              "      <td>5</td>\n",
              "      <td>0</td>\n",
              "      <td>1</td>\n",
              "      <td>0</td>\n",
              "      <td>sales</td>\n",
              "      <td>low</td>\n",
              "    </tr>\n",
              "    <tr>\n",
              "      <th>9</th>\n",
              "      <td>0.42</td>\n",
              "      <td>0.53</td>\n",
              "      <td>2</td>\n",
              "      <td>142</td>\n",
              "      <td>3</td>\n",
              "      <td>0</td>\n",
              "      <td>1</td>\n",
              "      <td>0</td>\n",
              "      <td>sales</td>\n",
              "      <td>low</td>\n",
              "    </tr>\n",
              "  </tbody>\n",
              "</table>\n",
              "</div>"
            ],
            "text/plain": [
              "   satisfaction  evaluation  number_of_projects  ...  promotion  department  salary\n",
              "0          0.38        0.53                   2  ...          0       sales     low\n",
              "1          0.80        0.86                   5  ...          0       sales  medium\n",
              "2          0.11        0.88                   7  ...          0       sales  medium\n",
              "3          0.72        0.87                   5  ...          0       sales     low\n",
              "4          0.37        0.52                   2  ...          0       sales     low\n",
              "5          0.41        0.50                   2  ...          0       sales     low\n",
              "6          0.10        0.77                   6  ...          0       sales     low\n",
              "7          0.92        0.85                   5  ...          0       sales     low\n",
              "8          0.89        1.00                   5  ...          0       sales     low\n",
              "9          0.42        0.53                   2  ...          0       sales     low\n",
              "\n",
              "[10 rows x 10 columns]"
            ]
          },
          "metadata": {
            "tags": []
          },
          "execution_count": 4
        }
      ]
    },
    {
      "cell_type": "code",
      "metadata": {
        "colab": {
          "base_uri": "https://localhost:8080/"
        },
        "id": "ZWCJWA9WS_o5",
        "outputId": "3338eee2-0275-4c0e-e633-87db2cf5e757"
      },
      "source": [
        "#check for datatypes\n",
        "data.dtypes"
      ],
      "execution_count": 5,
      "outputs": [
        {
          "output_type": "execute_result",
          "data": {
            "text/plain": [
              "satisfaction            float64\n",
              "evaluation              float64\n",
              "number_of_projects        int64\n",
              "average_montly_hours      int64\n",
              "time_spend_company        int64\n",
              "work_accident             int64\n",
              "churn                     int64\n",
              "promotion                 int64\n",
              "department               object\n",
              "salary                   object\n",
              "dtype: object"
            ]
          },
          "metadata": {
            "tags": []
          },
          "execution_count": 5
        }
      ]
    },
    {
      "cell_type": "code",
      "metadata": {
        "colab": {
          "base_uri": "https://localhost:8080/"
        },
        "id": "7FqVFHcYzc6Q",
        "outputId": "ea008282-6fb6-4f79-d69c-35d5eec1face"
      },
      "source": [
        "#check for class balance\n",
        "data.churn.value_counts().compute()"
      ],
      "execution_count": 6,
      "outputs": [
        {
          "output_type": "execute_result",
          "data": {
            "text/plain": [
              "0    11428\n",
              "1     3571\n",
              "Name: churn, dtype: int64"
            ]
          },
          "metadata": {
            "tags": []
          },
          "execution_count": 6
        }
      ]
    },
    {
      "cell_type": "markdown",
      "metadata": {
        "id": "9CfHqENiVtos"
      },
      "source": [
        "Machine Learning Prep"
      ]
    },
    {
      "cell_type": "code",
      "metadata": {
        "id": "zDkEYWkxTdqH"
      },
      "source": [
        "# This is the feature set\n",
        "X = data[['satisfaction', 'evaluation', 'number_of_projects', 'average_montly_hours', 'time_spend_company']]\n",
        "# This is the target variable\n",
        "y = data['churn']\n",
        "\n",
        "X_train, X_test, y_train, y_test = train_test_split(X, y, test_size=0.2, shuffle=True)"
      ],
      "execution_count": 22,
      "outputs": []
    },
    {
      "cell_type": "markdown",
      "metadata": {
        "id": "OggZkrWSHqgX"
      },
      "source": [
        "Random Forest Model with Dask"
      ]
    },
    {
      "cell_type": "code",
      "metadata": {
        "id": "p5iNOMVPWEda",
        "colab": {
          "base_uri": "https://localhost:8080/"
        },
        "outputId": "ff6e4c58-006f-422e-adc4-c9becaa18727"
      },
      "source": [
        "rf_model = RandomForestClassifier()\n",
        "\n",
        "with joblib.parallel_backend('dask'):\n",
        "    scores = cross_validate(rf_model, X_train.compute(), y_train.compute(), cv=4)\n",
        "    \n",
        "scores"
      ],
      "execution_count": 23,
      "outputs": [
        {
          "output_type": "execute_result",
          "data": {
            "text/plain": [
              "{'fit_time': array([4.5639782 , 5.34859324, 5.01502275, 5.18656492]),\n",
              " 'score_time': array([0.35821724, 0.11410356, 0.13657904, 0.12441707]),\n",
              " 'test_score': array([0.98703888, 0.9893617 , 0.99268617, 0.98670213])}"
            ]
          },
          "metadata": {
            "tags": []
          },
          "execution_count": 23
        }
      ]
    },
    {
      "cell_type": "code",
      "metadata": {
        "id": "EDvWHhAuXEYV"
      },
      "source": [
        "rf_params = {\"max_depth\": [2, 4, 8, 16]}\n",
        "\n",
        "rf_model = RandomForestClassifier()\n",
        "\n",
        "grid_search_rf = GridSearchCV(rf_model, \n",
        "                              param_grid=rf_params, \n",
        "                              return_train_score=True, \n",
        "                              cv=4, \n",
        "                              scoring='roc_auc')"
      ],
      "execution_count": 24,
      "outputs": []
    },
    {
      "cell_type": "code",
      "metadata": {
        "id": "EbIthWMIFgBw"
      },
      "source": [
        "with joblib.parallel_backend('dask'):\n",
        "  grid_search_rf.fit(X_train.compute(), y_train.compute())"
      ],
      "execution_count": 25,
      "outputs": []
    },
    {
      "cell_type": "code",
      "metadata": {
        "colab": {
          "base_uri": "https://localhost:8080/"
        },
        "id": "5Kg4LkUVFjEs",
        "outputId": "d2174049-57d8-4971-bfbf-dde0e2b82325"
      },
      "source": [
        "print(\"The best value is: \", grid_search_rf.best_params_)\n",
        "print(\"The test AUC score is: \", grid_search_rf.score(X_test.compute(), y_test.compute()))"
      ],
      "execution_count": 26,
      "outputs": [
        {
          "output_type": "stream",
          "text": [
            "The best value is:  {'max_depth': 16}\n",
            "The test AUC score is:  0.9935697412684278\n"
          ],
          "name": "stdout"
        }
      ]
    },
    {
      "cell_type": "markdown",
      "metadata": {
        "id": "dImF9XPaGWvm"
      },
      "source": [
        "Lets do anohter ML, Logistic Regression"
      ]
    },
    {
      "cell_type": "code",
      "metadata": {
        "colab": {
          "base_uri": "https://localhost:8080/"
        },
        "id": "0h3osJr9GRzi",
        "outputId": "478ca8e3-59c3-4646-8a28-d523d98004b2"
      },
      "source": [
        "from dask_ml.linear_model import LogisticRegression\n",
        "\n",
        "lr = LogisticRegression()\n",
        "\n",
        "lr.fit(X_train.to_dask_array(lengths=True), y_train.to_dask_array(lengths=True))"
      ],
      "execution_count": 27,
      "outputs": [
        {
          "output_type": "execute_result",
          "data": {
            "text/plain": [
              "LogisticRegression()"
            ]
          },
          "metadata": {
            "tags": []
          },
          "execution_count": 27
        }
      ]
    },
    {
      "cell_type": "code",
      "metadata": {
        "colab": {
          "base_uri": "https://localhost:8080/"
        },
        "id": "mvGFwuO9GdOK",
        "outputId": "f1df4905-2297-4c5b-c178-9003dcf4e321"
      },
      "source": [
        "preds_train = lr.predict(X_train.to_dask_array(lengths=True))\n",
        "preds_test = lr.predict(X_test.to_dask_array(lengths=True))\n",
        "\n",
        "print(\"Training score is: \", roc_auc_score(y_train.compute(), preds_train))\n",
        "print(\"Test score is: \", roc_auc_score(y_test.compute(), preds_test))"
      ],
      "execution_count": 28,
      "outputs": [
        {
          "output_type": "stream",
          "text": [
            "Training score is:  0.5933426546884122\n",
            "Test score is:  0.5970466013653902\n"
          ],
          "name": "stdout"
        }
      ]
    },
    {
      "cell_type": "markdown",
      "metadata": {
        "id": "91zdF_Q1GoMn"
      },
      "source": [
        "Lastly, I will do and XGBoost"
      ]
    },
    {
      "cell_type": "code",
      "metadata": {
        "id": "f0kD0_CeGha9"
      },
      "source": [
        "!pip install dask_xgboost --quiet"
      ],
      "execution_count": 29,
      "outputs": []
    },
    {
      "cell_type": "code",
      "metadata": {
        "colab": {
          "base_uri": "https://localhost:8080/"
        },
        "id": "ypDS8PMaGsEP",
        "outputId": "49d54b4a-4730-4031-ef91-43ac3909cc41"
      },
      "source": [
        "from dask_ml.xgboost import XGBClassifier\n",
        "\n",
        "xgb = XGBClassifier(n_estimators=100)\n",
        "\n",
        "xgb.fit(X_train.to_dask_array(lengths=True), y_train.to_dask_array(lengths=True))"
      ],
      "execution_count": 30,
      "outputs": [
        {
          "output_type": "execute_result",
          "data": {
            "text/plain": [
              "XGBClassifier()"
            ]
          },
          "metadata": {
            "tags": []
          },
          "execution_count": 30
        }
      ]
    },
    {
      "cell_type": "code",
      "metadata": {
        "colab": {
          "base_uri": "https://localhost:8080/"
        },
        "id": "RT7EUS05GuMo",
        "outputId": "c9281af0-51d3-4959-8cf7-071ed25de3fb"
      },
      "source": [
        "preds_train = xgb.predict(X_train.to_dask_array(lengths=True))\n",
        "preds_test = xgb.predict(X_test.to_dask_array(lengths=True))\n",
        "\n",
        "print(\"Training score is: \", roc_auc_score(y_train.compute(), preds_train))\n",
        "print(\"Test score is: \", roc_auc_score(y_test.compute(), preds_test))"
      ],
      "execution_count": 31,
      "outputs": [
        {
          "output_type": "stream",
          "text": [
            "Training score is:  0.958620678326841\n",
            "Test score is:  0.954209953497576\n"
          ],
          "name": "stdout"
        }
      ]
    },
    {
      "cell_type": "markdown",
      "metadata": {
        "id": "93nLsnzqGyBM"
      },
      "source": [
        "Overall the Random Forest performed the best. "
      ]
    }
  ]
}